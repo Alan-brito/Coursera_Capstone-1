{
    "cells": [
        {
            "cell_type": "markdown",
            "metadata": {
                "collapsed": true
            },
            "source": "# The Battle of the Neighborhoods"
        },
        {
            "cell_type": "markdown",
            "metadata": {},
            "source": "-----------------------------------------------------"
        },
        {
            "cell_type": "markdown",
            "metadata": {},
            "source": "## INTRODUCTION"
        },
        {
            "cell_type": "markdown",
            "metadata": {},
            "source": "Some of my friends are planning a visit to Connaught Place, New Delhi for an official meeting. They would surely want to stay in a hotel and would like to dine in a fancy restaurant. They also wish to ease up a bit by having some drinks. Since, they would be on a tight schedule, they would want to spend the least of their time on commute. So, we need to figure out the best combination of hotel, restaurant and bar, that we can suggest to them. I would like to propose them the best trio of hotel, bar and restaurant that is not only the most accessible but also well rated. "
        },
        {
            "cell_type": "markdown",
            "metadata": {},
            "source": "------------------------------------------------------------"
        },
        {
            "cell_type": "markdown",
            "metadata": {},
            "source": "## Data Section"
        },
        {
            "cell_type": "markdown",
            "metadata": {},
            "source": "I would use the Foursquare API to retrieve all the information about hotels, restaurants and bars in Connaught Place, New Delhi. All the venues retrieved in the place would have latitude and longitude. That information will be used to "
        }
    ],
    "metadata": {
        "kernelspec": {
            "display_name": "Python 3.6",
            "language": "python",
            "name": "python3"
        },
        "language_info": {
            "codemirror_mode": {
                "name": "ipython",
                "version": 3
            },
            "file_extension": ".py",
            "mimetype": "text/x-python",
            "name": "python",
            "nbconvert_exporter": "python",
            "pygments_lexer": "ipython3",
            "version": "3.6.9"
        }
    },
    "nbformat": 4,
    "nbformat_minor": 1
}